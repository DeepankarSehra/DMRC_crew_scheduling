{
 "cells": [
  {
   "cell_type": "code",
   "execution_count": 1,
   "metadata": {},
   "outputs": [],
   "source": [
    "import csv\n",
    "from datetime import timedelta\n",
    "import gurobipy as gp \n",
    "from gurobipy import GRB\n",
    "import networkx as nx\n",
    "import random\n",
    "import matplotlib.pyplot as plt\n",
    "import inspect\n",
    "from collections import defaultdict\n",
    "\n",
    "from models import simple_mpc, mpc_duration_constr, lazy, column_generation\n",
    "from helper import Service, hhmm2mins, mins2hhmm, fetch_data, draw_graph_with_edges, node_legal, no_overlap, create_duty_graph, extract_nodes, generate_paths, roster_statistics, solution_verify, solve_RMLP, new_duty_with_bellman_ford"
   ]
  },
  {
   "cell_type": "code",
   "execution_count": 2,
   "metadata": {},
   "outputs": [],
   "source": [
    "import importlib\n",
    "import models\n",
    "import helper\n",
    "\n",
    "importlib.reload(models)\n",
    "importlib.reload(helper)\n",
    "\n",
    "from models import simple_mpc, mpc_duration_constr, lazy, column_generation\n",
    "from helper import Service, hhmm2mins, mins2hhmm, fetch_data, draw_graph_with_edges, node_legal, no_overlap, create_duty_graph, extract_nodes, generate_paths, roster_statistics, solution_verify, solve_RMLP, new_duty_with_bellman_ford"
   ]
  },
  {
   "cell_type": "code",
   "execution_count": 3,
   "metadata": {},
   "outputs": [],
   "source": [
    "services, service_dict = fetch_data('./StepBackServices.csv')\n",
    "graph = create_duty_graph(services)"
   ]
  },
  {
   "cell_type": "code",
   "execution_count": 4,
   "metadata": {},
   "outputs": [
    {
     "name": "stdout",
     "output_type": "stream",
     "text": [
      "Set parameter Username\n",
      "Set parameter LicenseID to value 2626143\n",
      "Academic license - for non-commercial use only - expires 2026-02-21\n",
      "Set parameter TimeLimit to value 30\n",
      "Gurobi Optimizer version 11.0.3 build v11.0.3rc0 (win64 - Windows 11+.0 (26100.2))\n",
      "\n",
      "CPU model: 12th Gen Intel(R) Core(TM) i7-1255U, instruction set [SSE2|AVX|AVX2]\n",
      "Thread count: 10 physical cores, 12 logical processors, using up to 12 threads\n",
      "\n",
      "Optimize a model with 104364 rows, 68020 columns and 335422 nonzeros\n",
      "Model fingerprint: 0x4522e447\n",
      "Variable types: 34478 continuous, 33542 integer (33542 binary)\n",
      "Coefficient statistics:\n",
      "  Matrix range     [1e+00, 4e+02]\n",
      "  Objective range  [1e+00, 1e+00]\n",
      "  Bounds range     [1e+00, 1e+00]\n",
      "  RHS range        [1e+00, 4e+02]\n",
      "Presolve removed 4053 rows and 1231 columns\n",
      "Presolve time: 1.91s\n",
      "Presolved: 100311 rows, 66789 columns, 375048 nonzeros\n",
      "Variable types: 33433 continuous, 33356 integer (33356 binary)\n",
      "Found heuristic solution: objective 899.0000000\n",
      "Deterministic concurrent LP optimizer: primal and dual simplex\n",
      "Showing primal log only...\n",
      "\n",
      "Concurrent spin time: 0.01s\n",
      "\n",
      "Solved with dual simplex\n",
      "\n",
      "Root relaxation: objective 8.300000e+01, 7016 iterations, 1.85 seconds (0.85 work units)\n",
      "Total elapsed time = 9.60s (DegenMoves)\n",
      "Total elapsed time = 16.49s (DegenMoves)\n",
      "Total elapsed time = 20.30s (DegenMoves)\n",
      "\n",
      "    Nodes    |    Current Node    |     Objective Bounds      |     Work\n",
      " Expl Unexpl |  Obj  Depth IntInf | Incumbent    BestBd   Gap | It/Node Time\n",
      "\n",
      "     0     0   83.00000    0  436  899.00000   83.00000  90.8%     -   23s\n",
      "H    0     0                     160.0000000   83.00000  48.1%     -   23s\n",
      "     0     0          -    0       160.00000   83.00000  48.1%     -   30s\n",
      "\n",
      "Cutting planes:\n",
      "  Gomory: 7\n",
      "  Implied bound: 324\n",
      "  MIR: 19\n",
      "  Flow cover: 34\n",
      "  RLT: 209\n",
      "  Relax-and-lift: 167\n",
      "  BQP: 72\n",
      "\n",
      "Explored 1 nodes (69060 simplex iterations) in 30.03 seconds (28.90 work units)\n",
      "Thread count was 12 (of 12 available processors)\n",
      "\n",
      "Solution count 2: 160 899 \n",
      "\n",
      "Time limit reached\n",
      "Best objective 1.600000000000e+02, best bound 8.300000000000e+01, gap 48.1250%\n",
      "\n",
      "Roster Statistics:\n",
      "Number of duties:  160\n",
      "Maximum number of services in a duty:  19\n",
      "Minimum number of services in a duty:  0\n",
      "Maximum duration of duty:  06:00\n",
      "Minimum duration of duty:  00:16\n",
      "Duties with driving time more than 6hrs:  0\n",
      "Duties with driving time more than 8hrs:  0\n",
      "[[-2, 336, 28, 67, -1], [-2, 872, 697, 14, 367, -1], [-2, 873, 347, 38, 79, 399, -1]]\n"
     ]
    }
   ],
   "source": [
    "init_duties, duty_count = mpc_duration_constr(graph, service_dict, time_limit = 30, show_logs = True, show_duties = False, show_roster_stats = True)\n",
    "init_duties2 = []\n",
    "for duty in init_duties:\n",
    "    init_duties2.append([-2] + duty + [-1])\n",
    "print(init_duties2[:3])"
   ]
  },
  {
   "cell_type": "code",
   "execution_count": 5,
   "metadata": {},
   "outputs": [
    {
     "name": "stdout",
     "output_type": "stream",
     "text": [
      "Optimal solution found\n",
      "Positive Duties, > 0.5:  160\n",
      "Number of 1s is: 160\n",
      "Objective Value: 160.0\n",
      "[-2, 336, 344, 32, 71, 113, 776, 178, 456, 249, 842, 857, 866, -1] -12.0\n",
      "Optimal solution found\n",
      "Positive Duties, > 0.5:  160\n",
      "Number of 1s is: 160\n",
      "Objective Value: 160.0\n",
      "[-2, 336, 344, 32, 71, 109, 776, 178, 456, 249, 842, 857, 866, -1] -12.0\n",
      "Optimal solution found\n",
      "Positive Duties, > 0.5:  160\n",
      "Number of 1s is: 160\n",
      "Objective Value: 160.0\n",
      "[-2, 336, 344, 32, 71, 109, 776, 178, 456, 249, 842, 857, 866, -1] -12.0\n",
      "Optimal solution found\n",
      "Positive Duties, > 0.5:  160\n",
      "Number of 1s is: 160\n",
      "Objective Value: 160.0\n",
      "[-2, 336, 344, 32, 71, 109, 776, 178, 456, 249, 842, 857, 866, -1] -12.0\n",
      "Optimal solution found\n",
      "Positive Duties, > 0.5:  160\n",
      "Number of 1s is: 160\n",
      "Objective Value: 160.0\n",
      "[-2, 336, 344, 32, 71, 109, 776, 178, 456, 249, 842, 857, 866, -1] -12.0\n",
      "Optimal solution found\n",
      "Positive Duties, > 0.5:  160\n",
      "Number of 1s is: 160\n",
      "Objective Value: 160.0\n",
      "[-2, 336, 344, 32, 71, 109, 776, 178, 456, 249, 842, 857, 866, -1] -12.0\n",
      "Optimal solution found\n",
      "Positive Duties, > 0.5:  160\n",
      "Number of 1s is: 160\n",
      "Objective Value: 160.0\n",
      "[-2, 336, 344, 32, 71, 109, 776, 178, 456, 249, 842, 857, 866, -1] -12.0\n",
      "Optimal solution found\n",
      "Positive Duties, > 0.5:  160\n",
      "Number of 1s is: 160\n",
      "Objective Value: 160.0\n",
      "[-2, 336, 344, 32, 71, 109, 776, 178, 456, 249, 842, 857, 866, -1] -12.0\n",
      "Optimal solution found\n",
      "Positive Duties, > 0.5:  160\n",
      "Number of 1s is: 160\n",
      "Objective Value: 160.0\n",
      "[-2, 336, 344, 32, 71, 109, 776, 178, 456, 249, 842, 857, 866, -1] -12.0\n",
      "Optimal solution found\n",
      "Positive Duties, > 0.5:  160\n",
      "Number of 1s is: 160\n",
      "Objective Value: 160.0\n",
      "[-2, 336, 344, 32, 71, 109, 776, 178, 456, 249, 842, 857, 866, -1] -12.0\n",
      "Optimal solution found\n",
      "Positive Duties, > 0.5:  160\n",
      "Number of 1s is: 160\n",
      "Objective Value: 160.0\n",
      "[-2, 336, 344, 32, 71, 109, 776, 178, 456, 249, 842, 857, 866, -1] -12.0\n"
     ]
    }
   ],
   "source": [
    "column_generation(method=1, graph = graph, services = services, init_duties= init_duties2, num_iter = 11)"
   ]
  },
  {
   "cell_type": "code",
   "execution_count": 6,
   "metadata": {},
   "outputs": [
    {
     "name": "stdout",
     "output_type": "stream",
     "text": [
      "[[-2, -2, 336, 28, 67, -1, -1], [-2, -2, 872, 697, 14, 367, -1, -1], [-2, -2, 873, 347, 38, 79, 399, -1, -1]]\n"
     ]
    }
   ],
   "source": [
    "init_duties3 = []\n",
    "for duty in init_duties2:\n",
    "    init_duties3.append([-2] + duty + [-1])\n",
    "print(init_duties3[:3])"
   ]
  },
  {
   "cell_type": "code",
   "execution_count": 7,
   "metadata": {},
   "outputs": [],
   "source": [
    "def generate_new_column(graph, service_dict, current_duties, dual_values, method = \"topological sort\"):\n",
    "    new_duties = []\n",
    "    reduced_costs = []\n",
    "    # Update edge weights based on dual values\n",
    "    for u, v in graph.edges():\n",
    "        graph[u][v]['weight'] = int(dual_values[u])* service_dict[u] # Adjust edge weight by dual value"
   ]
  }
 ],
 "metadata": {
  "kernelspec": {
   "display_name": "Python 3",
   "language": "python",
   "name": "python3"
  },
  "language_info": {
   "codemirror_mode": {
    "name": "ipython",
    "version": 3
   },
   "file_extension": ".py",
   "mimetype": "text/x-python",
   "name": "python",
   "nbconvert_exporter": "python",
   "pygments_lexer": "ipython3",
   "version": "3.12.1"
  }
 },
 "nbformat": 4,
 "nbformat_minor": 2
}
